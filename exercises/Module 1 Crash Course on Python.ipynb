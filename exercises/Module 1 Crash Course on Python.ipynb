{
 "cells": [
  {
   "cell_type": "markdown",
   "metadata": {},
   "source": [
    "# Module 1 Crash Course on Python"
   ]
  },
  {
   "cell_type": "markdown",
   "metadata": {},
   "source": [
    "## Data Types"
   ]
  },
  {
   "cell_type": "code",
   "execution_count": null,
   "metadata": {},
   "outputs": [],
   "source": [
    "a = 3\n",
    "a = 'hello'\n",
    "a = [2,3,4] #list\n",
    "a[0]=7      #list is mutable\n",
    "a = (3,5,6) #tuple\n",
    "#a[0]=7      #tuple is immutable \n",
    "map = {'a':1,'b':2} #map\n",
    "set1 = {2,3,4,5}    #set\n",
    "set2 = {5,4,3,3,2}\n",
    "print(set1==set2)\n",
    "print(set2)\n",
    "\n"
   ]
  },
  {
   "cell_type": "markdown",
   "metadata": {},
   "source": [
    "## Loop"
   ]
  },
  {
   "cell_type": "code",
   "execution_count": null,
   "metadata": {
    "collapsed": true
   },
   "outputs": [],
   "source": [
    "for i in range(10):\n",
    "    print(i)\n",
    "a = ['apple','orange']\n",
    "\n",
    "for i in a:\n",
    "    print(i)\n",
    "\n",
    "i=1\n",
    "while i<10:\n",
    "    print(i)\n",
    "    i = i+1\n",
    "\n"
   ]
  },
  {
   "cell_type": "markdown",
   "metadata": {},
   "source": [
    "## Control Structure"
   ]
  },
  {
   "cell_type": "code",
   "execution_count": null,
   "metadata": {
    "collapsed": true
   },
   "outputs": [],
   "source": [
    "a = 3\n",
    "b = 3\n",
    "if a<b:\n",
    "    print(\"a smaller than b\")\n",
    "elif a>b:\n",
    "    print(\"a is larger than b\")\n",
    "else:\n",
    "    print(\"a is same as b\")\n",
    "\n",
    "def f(x):\n",
    "    return x*x\n",
    "\n",
    "print(f(4))\n",
    "\n",
    "# !ls #exclaimation mark to access the terminal prompt\n"
   ]
  },
  {
   "cell_type": "markdown",
   "metadata": {},
   "source": [
    "## Comprehension"
   ]
  },
  {
   "cell_type": "code",
   "execution_count": null,
   "metadata": {
    "collapsed": true
   },
   "outputs": [],
   "source": [
    "a =[1,4,9,16]\n",
    "a = [i*i for i in range(10)]  #list comprehension\n",
    "print(a)\n",
    "\n"
   ]
  },
  {
   "cell_type": "markdown",
   "metadata": {},
   "source": [
    "## Lambda"
   ]
  },
  {
   "cell_type": "code",
   "execution_count": null,
   "metadata": {
    "collapsed": true
   },
   "outputs": [],
   "source": [
    "# f = lambda x : x*x\n",
    "\n",
    "# print(f(5))\n"
   ]
  },
  {
   "cell_type": "markdown",
   "metadata": {},
   "source": [
    "## Map"
   ]
  },
  {
   "cell_type": "code",
   "execution_count": null,
   "metadata": {
    "collapsed": true
   },
   "outputs": [],
   "source": [
    "\n",
    "a = [1,2,3,4,5]\n",
    "b = map(lambda x:x*x,a)\n",
    "\n",
    "#print(list(map(lambda x:x*x, a)))\n",
    "\n"
   ]
  },
  {
   "cell_type": "markdown",
   "metadata": {},
   "source": [
    "## Modules"
   ]
  },
  {
   "cell_type": "code",
   "execution_count": null,
   "metadata": {
    "collapsed": true
   },
   "outputs": [],
   "source": [
    "import math,time\n",
    "\n",
    "print(math.sin(math.pi/2))\n",
    "time.sleep(10)\n",
    "print(math.cos(math.pi/2))\n",
    "\n",
    "import numpy as np \n",
    "\n",
    "a = np.array([2,3,4])\n",
    "print(a)\n",
    "a = [2,3,4]\n",
    "print(a)"
   ]
  }
 ],
 "metadata": {
  "kernelspec": {
   "display_name": "Python 3",
   "language": "python",
   "name": "python3"
  },
  "language_info": {
   "codemirror_mode": {
    "name": "ipython",
    "version": 3
   },
   "file_extension": ".py",
   "mimetype": "text/x-python",
   "name": "python",
   "nbconvert_exporter": "python",
   "pygments_lexer": "ipython3",
   "version": "3.6.2"
  }
 },
 "nbformat": 4,
 "nbformat_minor": 2
}
