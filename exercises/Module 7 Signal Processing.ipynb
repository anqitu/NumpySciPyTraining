{
 "cells": [
  {
   "cell_type": "markdown",
   "metadata": {},
   "source": [
    "# Module 7 Signal Processing"
   ]
  },
  {
   "cell_type": "markdown",
   "metadata": {},
   "source": [
    "## FFT"
   ]
  },
  {
   "cell_type": "code",
   "execution_count": null,
   "metadata": {},
   "outputs": [],
   "source": [
    "import numpy as np\n",
    "import matplotlib.pyplot as plt\n",
    "from scipy.fftpack import fft\n",
    "from scipy.signal import blackman\n",
    "\n",
    "N = 1024\n",
    "T = 1/N\n",
    "t = np.linspace(0,N*T,N)\n",
    "y = np.sin(2*np.pi*50*t)+0.5*np.sin(2*np.pi*80*t)\n",
    "\n",
    "yf = fft(y)\n",
    "f = np.linspace(0,1/(2*T),N/2)\n",
    "\n",
    "plt.semilogy(f,2/N*np.abs(yf[0:512]))\n",
    "plt.show()\n"
   ]
  },
  {
   "cell_type": "markdown",
   "metadata": {},
   "source": [
    "## Windowing"
   ]
  },
  {
   "cell_type": "code",
   "execution_count": null,
   "metadata": {
    "collapsed": true
   },
   "outputs": [],
   "source": [
    "import numpy as np\n",
    "import matplotlib.pyplot as plt\n",
    "from scipy.fftpack import fft\n",
    "from scipy.signal import blackman\n",
    "\n",
    "N = 1024\n",
    "T = 1/N\n",
    "t = np.linspace(0,N*T,N)\n",
    "y = np.sin(2*np.pi*50*t)+0.5*np.sin(2*np.pi*80*t)\n",
    "w = blackman(N)\n",
    "\n",
    "#yf = fft(y)\n",
    "yf = fft(y*w)\n",
    "f = np.linspace(0,1/(2*T),N/2)\n",
    "\n",
    "plt.semilogy(f,2/N*np.abs(yf[0:512]))\n",
    "plt.show()\n"
   ]
  }
 ],
 "metadata": {
  "kernelspec": {
   "display_name": "Python 3",
   "language": "python",
   "name": "python3"
  },
  "language_info": {
   "codemirror_mode": {
    "name": "ipython",
    "version": 3
   },
   "file_extension": ".py",
   "mimetype": "text/x-python",
   "name": "python",
   "nbconvert_exporter": "python",
   "pygments_lexer": "ipython3",
   "version": "3.6.2"
  }
 },
 "nbformat": 4,
 "nbformat_minor": 2
}
