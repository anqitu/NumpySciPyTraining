{
 "cells": [
  {
   "cell_type": "markdown",
   "metadata": {},
   "source": [
    "# Module 5 Numerical Analysis"
   ]
  },
  {
   "cell_type": "markdown",
   "metadata": {},
   "source": [
    "## Curve Fitting"
   ]
  },
  {
   "cell_type": "code",
   "execution_count": null,
   "metadata": {},
   "outputs": [],
   "source": [
    "import numpy as np\n",
    "import matplotlib.pyplot as plt\n",
    "from scipy.optimize import curve_fit\n",
    "\n",
    "# Generate Noisy Raw data\n",
    "x = np.linspace(0,10,100)\n",
    "y = 1.0 + 1.0*x + np.random.normal(0,1,len(x))\n",
    "\n",
    "# Linear model\n",
    "def f(a,b,x):\n",
    "    return a + b*x\n",
    "\n",
    "# SciPy Curve Fitting \n",
    "popt,pcov = curve_fit(f,x,y)\n",
    "print(popt)\n",
    "\n",
    "# Plot the raw data and curve fitting\n",
    "yhat = popt[0]+popt[1]*x\n",
    "plt.scatter(x,y) #plot the raw data\n",
    "plt.plot(x,yhat,'r') #plot the curve fitting\n",
    "plt.show()"
   ]
  },
  {
   "cell_type": "markdown",
   "metadata": {},
   "source": [
    "## Challenge\n",
    "\n",
    "### Raw Data\n",
    "x = np.linspace(-10,10,100) <br>\n",
    "y = f(x,2,1) + 3*np.random.normal(0,1,len(x))\n",
    "\n",
    "### Curve to fit\n",
    "$$\n",
    "y =  x^2+ax+b\n",
    "$$\n",
    "\n"
   ]
  },
  {
   "cell_type": "markdown",
   "metadata": {},
   "source": [
    "## Solution"
   ]
  },
  {
   "cell_type": "code",
   "execution_count": null,
   "metadata": {},
   "outputs": [],
   "source": [
    "import numpy as np\n",
    "import matplotlib.pyplot as plt\n",
    "from scipy.optimize import curve_fit\n",
    "\n",
    "# Quadratic model\n",
    "def f(x,a,b,c): \n",
    "    return a + b*x+ c*x*x\n",
    "\n",
    "# Generate Noisy Raw data\n",
    "x = np.linspace(-10,10,100) \n",
    "y = f(x,1,3,0.5) + 3*np.random.normal(0,1,len(x))\n",
    "\n",
    "# SciPy Curve Fitting \n",
    "popt,pcov = curve_fit(f,x,y)\n",
    "print(popt)\n",
    "\n",
    "# Plot the raw data and curve fitting\n",
    "yhat = popt[0]+popt[1]*x + popt[2]*x*x\n",
    "plt.scatter(x,y) #plot the raw data\n",
    "plt.plot(x,yhat,'r') #plot the curve fitting\n",
    "plt.show()"
   ]
  },
  {
   "cell_type": "markdown",
   "metadata": {},
   "source": [
    "## Finding Roots"
   ]
  },
  {
   "cell_type": "code",
   "execution_count": null,
   "metadata": {},
   "outputs": [],
   "source": [
    "import numpy as np\n",
    "from scipy.optimize import fsolve\n",
    "\n",
    "f = lambda x : x*x-3*x+2\n",
    "root = fsolve(f,[-5,5])\n",
    "print(root)\n"
   ]
  },
  {
   "cell_type": "markdown",
   "metadata": {},
   "source": [
    "## Challenge\n",
    "\n",
    "Find the roots for \n",
    "\n",
    "$$\n",
    "y = x^2+2x-8 \n",
    "$$"
   ]
  },
  {
   "cell_type": "code",
   "execution_count": null,
   "metadata": {},
   "outputs": [],
   "source": [
    "import numpy as np\n",
    "from scipy.optimize import fsolve\n",
    "\n",
    "f = lambda x : x*x+2*x-8\n",
    "root = fsolve(f,[-5,5])\n",
    "print(root)\n"
   ]
  },
  {
   "cell_type": "markdown",
   "metadata": {},
   "source": [
    "## Interpolation"
   ]
  },
  {
   "cell_type": "code",
   "execution_count": null,
   "metadata": {},
   "outputs": [],
   "source": [
    "import numpy as np\n",
    "import matplotlib.pyplot as plt\n",
    "from scipy.interpolate import interp1d\n",
    "\n",
    "# Raw Data\n",
    "x = np.linspace(0,4*np.pi,20)\n",
    "y = np.sin(x)\n",
    "\n",
    "\n",
    "# Interpolation\n",
    "f = interp1d(x,y,kind=\"linear\")\n",
    "yhat = f(x)\n",
    "\n",
    "# Plot out the result\n",
    "plt.plot(x,y,'bo')\n",
    "plt.plot(x,yhat,'r')\n",
    "plt.show()"
   ]
  },
  {
   "cell_type": "markdown",
   "metadata": {},
   "source": [
    "## Solution"
   ]
  },
  {
   "cell_type": "code",
   "execution_count": null,
   "metadata": {},
   "outputs": [],
   "source": [
    "import numpy as np\n",
    "import matplotlib.pyplot as plt\n",
    "from scipy.interpolate import interp1d\n",
    "\n",
    "x = np.linspace(-1,1,10)\n",
    "y = x*x*x + 0.3*np.random.normal(0,1,10)\n",
    "\n",
    "# Interpolation\n",
    "f = interp1d(x,y,kind=\"cubic\")\n",
    "yhat = f(x)\n",
    "\n",
    "# Plot out the result\n",
    "plt.plot(x,y,'bo')\n",
    "plt.plot(x,yhat,'r')\n",
    "plt.show()"
   ]
  },
  {
   "cell_type": "markdown",
   "metadata": {},
   "source": [
    "## Solution"
   ]
  },
  {
   "cell_type": "code",
   "execution_count": null,
   "metadata": {},
   "outputs": [],
   "source": [
    "import numpy as np\n",
    "import matplotlib.pyplot as plt\n",
    "from scipy.interpolate import UnivariateSpline\n",
    "\n",
    "x = np.linspace(-1,1,10)\n",
    "y = x*x*x + 0.3*np.random.normal(0,1,10)\n",
    "\n",
    "# Interpolation\n",
    "f = UnivariateSpline(x,y,s=2)\n",
    "yhat = f(x)\n",
    "\n",
    "# Plot out the result\n",
    "plt.plot(x,y,'bo')\n",
    "plt.plot(x,yhat,'r')\n",
    "plt.show()"
   ]
  },
  {
   "cell_type": "markdown",
   "metadata": {},
   "source": [
    "## Integration"
   ]
  },
  {
   "cell_type": "code",
   "execution_count": null,
   "metadata": {},
   "outputs": [],
   "source": [
    "import numpy as np\n",
    "import matplotlib.pyplot as plt\n",
    "from scipy.integrate import simps, trapz, quad\n",
    "\n",
    "x = np.linspace(0,10,100)\n",
    "f = lambda x : x*x\n",
    "\n",
    "y = f(x)\n",
    "#a = simps(y,x)\n",
    "# a = trapz(y,x)\n",
    "a = quad(f,2,6)\n",
    "print(a)\n",
    "\n",
    "# plt.plot(x,y)\n",
    "# plt.show()\n",
    "\n",
    "\n",
    "\n"
   ]
  },
  {
   "cell_type": "markdown",
   "metadata": {},
   "source": [
    "## Solution"
   ]
  },
  {
   "cell_type": "code",
   "execution_count": null,
   "metadata": {},
   "outputs": [],
   "source": [
    "import numpy as np\n",
    "import matplotlib.pyplot as plt\n",
    "from scipy.integrate import simps, trapz, quad\n",
    "\n",
    "x = np.linspace(0,3,100)\n",
    "f = lambda x : np.cos(np.e**x)*np.cos(np.e**x)\n",
    "\n",
    "y = f(x)\n",
    "a1 = simps(y,x)\n",
    "a2 = trapz(y,x)\n",
    "a3 = quad(f,0,3)\n",
    "print('simpson method: ', a1)\n",
    "print('trapezoid method: ', a2)\n",
    "print('quadratic method: ', a3)\n"
   ]
  },
  {
   "cell_type": "markdown",
   "metadata": {},
   "source": [
    "# Ordinary Differential Equation"
   ]
  },
  {
   "cell_type": "code",
   "execution_count": null,
   "metadata": {},
   "outputs": [],
   "source": [
    "import numpy as np\n",
    "import matplotlib.pyplot as plt\n",
    "from scipy.integrate import odeint\n",
    "\n",
    "dxdt = lambda x,t : np.exp(-x)\n",
    "\n",
    "t = np.linspace(0,100,1000)\n",
    "x = odeint(dxdt,0,t)\n",
    "\n",
    "plt.plot(t,x)\n",
    "plt.xlabel('time')\n",
    "plt.ylabel('distance')\n",
    "plt.show()"
   ]
  },
  {
   "cell_type": "code",
   "execution_count": null,
   "metadata": {
    "collapsed": true
   },
   "outputs": [],
   "source": []
  }
 ],
 "metadata": {
  "kernelspec": {
   "display_name": "Python 3",
   "language": "python",
   "name": "python3"
  },
  "language_info": {
   "codemirror_mode": {
    "name": "ipython",
    "version": 3
   },
   "file_extension": ".py",
   "mimetype": "text/x-python",
   "name": "python",
   "nbconvert_exporter": "python",
   "pygments_lexer": "ipython3",
   "version": "3.6.2"
  }
 },
 "nbformat": 4,
 "nbformat_minor": 2
}
