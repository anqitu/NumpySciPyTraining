{
 "cells": [
  {
   "cell_type": "markdown",
   "metadata": {},
   "source": [
    "# Module 3 Matplotlib"
   ]
  },
  {
   "cell_type": "code",
   "execution_count": null,
   "metadata": {
    "collapsed": true
   },
   "outputs": [],
   "source": [
    "import matplotlib.pyplot as plt \n",
    "\n",
    "x = np.linspace(0,4*np.pi,100)\n",
    "y = np.sin(x)\n",
    "y2 = np.cos(x)\n",
    "plt.plot(x,y,'ro')\n",
    "plt.plot(x,y2,'b^')\n",
    "plt.title('Sine and cosine curve')\n",
    "plt.xlabel('x')\n",
    "plt.ylabel('y')\n",
    "plt.show()\n"
   ]
  },
  {
   "cell_type": "code",
   "execution_count": null,
   "metadata": {
    "collapsed": true
   },
   "outputs": [],
   "source": [
    "import numpy as np\n",
    "import matplotlib.pyplot as plt\n",
    "from matplotlib import cm\n",
    "from mpl_toolkits.mplot3d import Axes3D\n",
    "\n",
    "X = np.arange(-5, 5, 0.25)\n",
    "Y = np.arange(-5, 5, 0.25)\n",
    "X, Y = np.meshgrid(X, Y)\n",
    "R = np.sqrt(X**2 + Y**2)\n",
    "Z = np.sin(R)\n",
    "\n",
    "fig = plt.figure()\n",
    "ax = Axes3D(fig)\n",
    "ax.plot_surface(X, Y, Z, rstride=1, cstride=1, cmap=cm.viridis)\n",
    "\n",
    "plt.show()"
   ]
  },
  {
   "cell_type": "code",
   "execution_count": null,
   "metadata": {
    "collapsed": true
   },
   "outputs": [],
   "source": [
    "from matplotlib.font_manager import FontProperties\n",
    "import matplotlib.pyplot as plt\n",
    "import numpy as np\n",
    "\n",
    "\n",
    "def f(t):\n",
    "    s1 = np.cos(2*np.pi*t)\n",
    "    e1 = np.exp(-t)\n",
    "    return s1 * e1\n",
    "\n",
    "t1 = np.arange(0.0, 5.0, 0.1)\n",
    "t2 = np.arange(0.0, 5.0, 0.02)\n",
    "t3 = np.arange(0.0, 2.0, 0.01)\n",
    "\n",
    "\n",
    "plt.subplot(121)\n",
    "plt.plot(t1, f(t1), 'o', t2, f(t2), '-')\n",
    "plt.title('subplot 1')\n",
    "plt.ylabel('Damped oscillation')\n",
    "plt.suptitle('This is a somewhat long figure title', fontsize=16)\n",
    "\n",
    "\n",
    "plt.subplot(122)\n",
    "plt.plot(t3, np.cos(2*np.pi*t3), '--')\n",
    "plt.xlabel('time (s)')\n",
    "plt.title('subplot 2')\n",
    "plt.ylabel('Undamped')\n",
    "\n",
    "plt.subplots_adjust(left=0.2, wspace=0.8, top=0.8)\n",
    "\n",
    "plt.show()"
   ]
  },
  {
   "cell_type": "code",
   "execution_count": null,
   "metadata": {
    "collapsed": true
   },
   "outputs": [],
   "source": []
  }
 ],
 "metadata": {
  "kernelspec": {
   "display_name": "Python 3",
   "language": "python",
   "name": "python3"
  },
  "language_info": {
   "codemirror_mode": {
    "name": "ipython",
    "version": 3
   },
   "file_extension": ".py",
   "mimetype": "text/x-python",
   "name": "python",
   "nbconvert_exporter": "python",
   "pygments_lexer": "ipython3",
   "version": "3.6.2"
  }
 },
 "nbformat": 4,
 "nbformat_minor": 2
}
