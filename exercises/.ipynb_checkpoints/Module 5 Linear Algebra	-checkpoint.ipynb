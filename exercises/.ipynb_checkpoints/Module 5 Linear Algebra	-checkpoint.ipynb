{
 "cells": [
  {
   "cell_type": "markdown",
   "metadata": {},
   "source": [
    "# Module 5 Linear Algebra"
   ]
  },
  {
   "cell_type": "markdown",
   "metadata": {},
   "source": [
    "## Matrix Multplication"
   ]
  },
  {
   "cell_type": "code",
   "execution_count": null,
   "metadata": {},
   "outputs": [],
   "source": [
    "import numpy as np\n",
    "\n",
    "A = np.array([\n",
    "    [1,-1],\n",
    "    [-1,1]\n",
    "    ])\n",
    "B = np.array([\n",
    "    [2,-1],\n",
    "    [-2,1]\n",
    "    ])\n",
    "C = np.dot(A,B)\n",
    "print(C)\n",
    "\n",
    "A = np.matrix([\n",
    "    [1,-1],\n",
    "    [-1,1]\n",
    "    ])\n",
    "B = np.matrix([\n",
    "    [2,-1],\n",
    "    [-2,1]\n",
    "    ])\n",
    "C = A*B\n",
    "print(C)"
   ]
  },
  {
   "cell_type": "markdown",
   "metadata": {},
   "source": [
    "## Transpose"
   ]
  },
  {
   "cell_type": "code",
   "execution_count": null,
   "metadata": {},
   "outputs": [],
   "source": [
    "A = np.matrix([\n",
    "    [1,2],\n",
    "    [3,1]\n",
    "    ])\n",
    "# At = A.transpose()\n",
    "At = A.T\n",
    "print(At)"
   ]
  },
  {
   "cell_type": "markdown",
   "metadata": {},
   "source": [
    "## Hermitian"
   ]
  },
  {
   "cell_type": "code",
   "execution_count": null,
   "metadata": {},
   "outputs": [],
   "source": [
    "A = np.matrix([\n",
    "    [1+1j,1-1j],\n",
    "    [2+1j,2-1j]\n",
    "    ])\n",
    "\n",
    "Ah = A.H\n",
    "print(Ah)"
   ]
  },
  {
   "cell_type": "markdown",
   "metadata": {},
   "source": [
    "## Inverse"
   ]
  },
  {
   "cell_type": "code",
   "execution_count": null,
   "metadata": {},
   "outputs": [],
   "source": [
    "from scipy.linalg import inv,det\n",
    "\n",
    "A = np.matrix([\n",
    "    [1,2],\n",
    "    [3,1]\n",
    "    ])\n",
    "\n",
    "Ai = inv(A)\n",
    "print(Ai)\n",
    "print(Ai*A)\n",
    "\n",
    "d = det(A)\n",
    "print(d)"
   ]
  },
  {
   "cell_type": "markdown",
   "metadata": {},
   "source": [
    "## Solving Linear Equation"
   ]
  },
  {
   "cell_type": "code",
   "execution_count": null,
   "metadata": {},
   "outputs": [],
   "source": [
    "from scipy.linalg import solve\n",
    "\n",
    "A = np.matrix([\n",
    "    [2,3],\n",
    "    [2,-3]\n",
    "    ])\n",
    "\n",
    "b = np.matrix([\n",
    "    [5],\n",
    "    [-1]\n",
    "    ])\n",
    "\n",
    "X = inv(A)*b\n",
    "print(X)\n",
    "\n",
    "X = solve(A,b)\n",
    "print(X)"
   ]
  },
  {
   "cell_type": "markdown",
   "metadata": {},
   "source": [
    "## Challenge\n",
    "\n",
    "Use Matrix Solve or Least Square methods to solve the following linear equations\n",
    "$$\n",
    "\\begin{array}\n",
    "1x &+& 3y &+& 5z &=& 10 \\\\\n",
    "2x &+& 5y &+& z &=& 8 \\\\\n",
    "2x &+& 3y &+& 8z &=& 3\n",
    "\\end{array}\n",
    "$$"
   ]
  },
  {
   "cell_type": "markdown",
   "metadata": {},
   "source": [
    "## Solution"
   ]
  },
  {
   "cell_type": "code",
   "execution_count": null,
   "metadata": {},
   "outputs": [],
   "source": [
    "A = np.matrix([\n",
    "    [1,3,5],\n",
    "    [2,5,1],\n",
    "    [2,3,8]])\n",
    "\n",
    "b = np.matrix(\n",
    "    [[10],\n",
    "     [8],\n",
    "     [3]])\n",
    "\n",
    "X = solve(A,b)\n",
    "print(X)"
   ]
  },
  {
   "cell_type": "markdown",
   "metadata": {},
   "source": [
    "## Eigenvalues and Eigenvectors"
   ]
  },
  {
   "cell_type": "code",
   "execution_count": null,
   "metadata": {},
   "outputs": [],
   "source": [
    "from scipy.linalg import eig\n",
    "\n",
    "A = np.matrix([\n",
    "    [1,3,5],\n",
    "    [4,5,1],\n",
    "    [6,3,8]])\n",
    "\n",
    "X = eig(A)\n",
    "a = X[0][0]\n",
    "x = X[1][0]\n",
    "\n",
    "x = x[np.newaxis,:].T\n",
    "print(A*x)\n",
    "print(a*x)"
   ]
  },
  {
   "cell_type": "code",
   "execution_count": null,
   "metadata": {},
   "outputs": [],
   "source": [
    "from scipy.linalg import eig\n",
    "\n",
    "A = np.matrix([\n",
    "    [1,0,0],\n",
    "    [0,2,0],\n",
    "    [0,0,3]])\n",
    "\n",
    "X = eig(A)\n",
    "print(X)\n",
    "\n",
    "a = X[0][0]\n",
    "x = X[1][0]\n",
    "\n",
    "x = x[np.newaxis,:].T\n",
    "print(A*x)\n",
    "print(a*x)"
   ]
  },
  {
   "cell_type": "markdown",
   "metadata": {},
   "source": [
    "## QR Decomposition"
   ]
  },
  {
   "cell_type": "code",
   "execution_count": null,
   "metadata": {},
   "outputs": [],
   "source": [
    "from scipy.linalg import qr\n",
    "\n",
    "A = np.matrix([\n",
    "    [1,0,0],\n",
    "    [0,2,0],\n",
    "    [0,0,3]])\n",
    "\n",
    "Q,R = qr(A)\n",
    "print(Q)\n",
    "print(R)\n",
    "print(Q*R)"
   ]
  },
  {
   "cell_type": "markdown",
   "metadata": {},
   "source": [
    "## LU Decomposition"
   ]
  },
  {
   "cell_type": "code",
   "execution_count": null,
   "metadata": {},
   "outputs": [],
   "source": [
    "from scipy.linalg import lu\n",
    "\n",
    "A = np.matrix([\n",
    "    [1,0,0],\n",
    "    [0,2,0],\n",
    "    [0,0,3]])\n",
    "\n",
    "P,L,U = lu (A)\n",
    "print(P)\n",
    "print(L)\n",
    "print(U)\n",
    "print(np.dot(P,np.dot(L,U)))"
   ]
  },
  {
   "cell_type": "markdown",
   "metadata": {},
   "source": [
    "## SVD Decomposition"
   ]
  },
  {
   "cell_type": "code",
   "execution_count": null,
   "metadata": {},
   "outputs": [],
   "source": [
    "from scipy.linalg import svd\n",
    "\n",
    "A = np.matrix([\n",
    "    [1,0,0],\n",
    "    [0,2,0],\n",
    "    [0,0,3]])\n",
    "\n",
    "P,D,Q = svd(A)\n",
    "print(P)\n",
    "print(D)\n",
    "print(Q)\n",
    "print(np.dot(np.dot(P,np.diag(D)),Q))\n",
    "\n"
   ]
  },
  {
   "cell_type": "markdown",
   "metadata": {},
   "source": [
    "## Challenge\n",
    "\n",
    "Compare QR, LU and SVD Decomposition \n",
    "\n",
    " $$\n",
    "   A=\n",
    "  \\left[ {\\begin{array}{ccc}\n",
    "   12 & -51 & 4\\\\\n",
    "   6 & 167 & -68 \\\\\n",
    "   -4 & 24 & -41\n",
    "  \\end{array} } \n",
    "  \\right]\n",
    "$$\n",
    "\n"
   ]
  },
  {
   "cell_type": "markdown",
   "metadata": {},
   "source": [
    "## Solution"
   ]
  },
  {
   "cell_type": "code",
   "execution_count": null,
   "metadata": {},
   "outputs": [],
   "source": [
    "from scipy.linalg import qr,lu,svd\n",
    "\n",
    "A = np.matrix([[12, -51, 4], [6, 167, -68], [-4, 24, -41]])\n",
    "\n",
    "# Q,R = qr(A)\n",
    "# print(Q)\n",
    "# print(R)\n",
    "# print(Q*R)\n",
    "\n",
    "# P,L,U = lu(A)\n",
    "# print(P)\n",
    "# print(L)\n",
    "# print(U)\n",
    "# print(np.dot(P,np.dot(L,U)))\n",
    "\n",
    "# P,D,Q = svd(A)\n",
    "# print(P)\n",
    "# print(D)\n",
    "# print(Q)\n",
    "# print(np.dot(np.dot(P,np.diag(D)),Q))\n",
    "\n"
   ]
  },
  {
   "cell_type": "code",
   "execution_count": null,
   "metadata": {
    "collapsed": true
   },
   "outputs": [],
   "source": []
  }
 ],
 "metadata": {
  "kernelspec": {
   "display_name": "Python 3",
   "language": "python",
   "name": "python3"
  },
  "language_info": {
   "codemirror_mode": {
    "name": "ipython",
    "version": 3
   },
   "file_extension": ".py",
   "mimetype": "text/x-python",
   "name": "python",
   "nbconvert_exporter": "python",
   "pygments_lexer": "ipython3",
   "version": "3.6.2"
  }
 },
 "nbformat": 4,
 "nbformat_minor": 2
}
